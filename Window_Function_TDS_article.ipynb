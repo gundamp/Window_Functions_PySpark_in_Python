{
  "nbformat": 4,
  "nbformat_minor": 0,
  "metadata": {
    "colab": {
      "provenance": [],
      "authorship_tag": "ABX9TyNTly7sTnMT5GJrq1Nv2OWr",
      "include_colab_link": true
    },
    "kernelspec": {
      "name": "python3",
      "display_name": "Python 3"
    },
    "language_info": {
      "name": "python"
    }
  },
  "cells": [
    {
      "cell_type": "markdown",
      "metadata": {
        "id": "view-in-github",
        "colab_type": "text"
      },
      "source": [
        "<a href=\"https://colab.research.google.com/github/gundamp/Window_Functions_PySpark_in_Python/blob/main/Window_Function_TDS_article.ipynb\" target=\"_parent\"><img src=\"https://colab.research.google.com/assets/colab-badge.svg\" alt=\"Open In Colab\"/></a>"
      ]
    },
    {
      "cell_type": "markdown",
      "source": [
        "#**TDS Article on Windows Functions**"
      ],
      "metadata": {
        "id": "fAW6MYNwtg0b"
      }
    },
    {
      "cell_type": "code",
      "execution_count": null,
      "metadata": {
        "colab": {
          "base_uri": "https://localhost:8080/"
        },
        "id": "9jXjUIEOezdQ",
        "outputId": "10c940ef-76fd-456b-ec42-ac3567d71267"
      },
      "outputs": [
        {
          "output_type": "stream",
          "name": "stdout",
          "text": [
            "Collecting pyspark\n",
            "  Downloading pyspark-3.2.1.tar.gz (281.4 MB)\n",
            "\u001b[K     |████████████████████████████████| 281.4 MB 25 kB/s \n",
            "\u001b[?25hCollecting py4j==0.10.9.3\n",
            "  Downloading py4j-0.10.9.3-py2.py3-none-any.whl (198 kB)\n",
            "\u001b[K     |████████████████████████████████| 198 kB 63.7 MB/s \n",
            "\u001b[?25hBuilding wheels for collected packages: pyspark\n",
            "  Building wheel for pyspark (setup.py) ... \u001b[?25l\u001b[?25hdone\n",
            "  Created wheel for pyspark: filename=pyspark-3.2.1-py2.py3-none-any.whl size=281853642 sha256=272e88e399a1a64bc6f6933c6d5a819d32fa888de650fc7608f160ad34c8d31b\n",
            "  Stored in directory: /root/.cache/pip/wheels/9f/f5/07/7cd8017084dce4e93e84e92efd1e1d5334db05f2e83bcef74f\n",
            "Successfully built pyspark\n",
            "Installing collected packages: py4j, pyspark\n",
            "Successfully installed py4j-0.10.9.3 pyspark-3.2.1\n"
          ]
        }
      ],
      "source": [
        "import numpy as np\n",
        "import pandas as pd\n",
        "import datetime as dt\n",
        "\n",
        "\n",
        "!pip install pyspark\n",
        "import pyspark\n",
        "from pyspark.sql.window import Window\n",
        "from pyspark.sql import functions as F\n",
        "from pyspark.sql import SparkSession\n",
        "\n",
        "\n",
        "from google.colab import data_table\n",
        "data_table.enable_dataframe_formatter()"
      ]
    },
    {
      "cell_type": "code",
      "source": [
        "from google.colab import drive\n",
        "\n",
        "drive.mount('/content/drive')"
      ],
      "metadata": {
        "colab": {
          "base_uri": "https://localhost:8080/"
        },
        "id": "YRTohUvue8Ds",
        "outputId": "55908700-50dd-495a-da77-12222365a1ab"
      },
      "execution_count": null,
      "outputs": [
        {
          "output_type": "stream",
          "name": "stdout",
          "text": [
            "Mounted at /content/drive\n"
          ]
        }
      ]
    },
    {
      "cell_type": "code",
      "source": [
        "path_demo = \"/content/drive/MyDrive/TDS/Window_Function/demo.csv\"\n",
        "\n",
        "demo_raw = pd.read_csv(path_demo)\n"
      ],
      "metadata": {
        "id": "j0UkUt19e8BR"
      },
      "execution_count": null,
      "outputs": []
    },
    {
      "cell_type": "code",
      "source": [
        "demo_raw.info()"
      ],
      "metadata": {
        "colab": {
          "base_uri": "https://localhost:8080/"
        },
        "id": "Ealzkoq6fc2v",
        "outputId": "da1dba3a-910c-403a-8eb7-63ef08e32285"
      },
      "execution_count": null,
      "outputs": [
        {
          "output_type": "stream",
          "name": "stdout",
          "text": [
            "<class 'pandas.core.frame.DataFrame'>\n",
            "RangeIndex: 8 entries, 0 to 7\n",
            "Data columns (total 7 columns):\n",
            " #   Column           Non-Null Count  Dtype \n",
            "---  ------           --------------  ----- \n",
            " 0   Policyholder ID  8 non-null      object\n",
            " 1   Claim Number     8 non-null      object\n",
            " 2   Monthly Benefit  8 non-null      int64 \n",
            " 3   Cause of Claim   8 non-null      object\n",
            " 4   Paid From Date   8 non-null      int64 \n",
            " 5   Paid To Date     8 non-null      int64 \n",
            " 6   Amount Paid      8 non-null      int64 \n",
            "dtypes: int64(4), object(3)\n",
            "memory usage: 576.0+ bytes\n"
          ]
        }
      ]
    },
    {
      "cell_type": "code",
      "source": [
        "demo_date_adj = demo_raw\n",
        "\n",
        "for col in ['Paid From Date', 'Paid To Date']:\n",
        "\n",
        "  demo_date_adj[col] = pd.TimedeltaIndex(demo_raw[col], unit = 'd') + dt.datetime(1899, 12, 30)\n",
        "\n",
        "demo_date_adj.info()"
      ],
      "metadata": {
        "colab": {
          "base_uri": "https://localhost:8080/"
        },
        "id": "VI0vYCPygDGw",
        "outputId": "bd894b76-7586-4ed8-f643-01dddb3c0727"
      },
      "execution_count": null,
      "outputs": [
        {
          "output_type": "stream",
          "name": "stdout",
          "text": [
            "<class 'pandas.core.frame.DataFrame'>\n",
            "RangeIndex: 8 entries, 0 to 7\n",
            "Data columns (total 7 columns):\n",
            " #   Column           Non-Null Count  Dtype         \n",
            "---  ------           --------------  -----         \n",
            " 0   Policyholder ID  8 non-null      object        \n",
            " 1   Claim Number     8 non-null      object        \n",
            " 2   Monthly Benefit  8 non-null      int64         \n",
            " 3   Cause of Claim   8 non-null      object        \n",
            " 4   Paid From Date   8 non-null      datetime64[ns]\n",
            " 5   Paid To Date     8 non-null      datetime64[ns]\n",
            " 6   Amount Paid      8 non-null      int64         \n",
            "dtypes: datetime64[ns](2), int64(2), object(3)\n",
            "memory usage: 576.0+ bytes\n"
          ]
        }
      ]
    },
    {
      "cell_type": "code",
      "source": [
        "demo_date_adj"
      ],
      "metadata": {
        "colab": {
          "base_uri": "https://localhost:8080/",
          "height": 263
        },
        "id": "hnAIyR2siqQf",
        "outputId": "5c2766bb-837a-496c-a20e-68369fdf28b3"
      },
      "execution_count": null,
      "outputs": [
        {
          "output_type": "execute_result",
          "data": {
            "application/vnd.google.colaboratory.module+javascript": "\n      import \"https://ssl.gstatic.com/colaboratory/data_table/81f25a011006ed3d/data_table.js\";\n\n      window.createDataTable({\n        data: [[{\n            'v': 0,\n            'f': \"0\",\n        },\n\"A\",\n\"A1\",\n{\n            'v': 100,\n            'f': \"100\",\n        },\n\"Hand Injury\",\n\"2020-01-01 00:00:00\",\n\"2020-01-15 00:00:00\",\n{\n            'v': 50,\n            'f': \"50\",\n        }],\n [{\n            'v': 1,\n            'f': \"1\",\n        },\n\"A\",\n\"A1\",\n{\n            'v': 100,\n            'f': \"100\",\n        },\n\"Hand Injury\",\n\"2020-01-16 00:00:00\",\n\"2020-01-31 00:00:00\",\n{\n            'v': 50,\n            'f': \"50\",\n        }],\n [{\n            'v': 2,\n            'f': \"2\",\n        },\n\"B\",\n\"B1\",\n{\n            'v': 200,\n            'f': \"200\",\n        },\n\"Cancer\",\n\"2020-01-01 00:00:00\",\n\"2020-01-31 00:00:00\",\n{\n            'v': 200,\n            'f': \"200\",\n        }],\n [{\n            'v': 3,\n            'f': \"3\",\n        },\n\"C\",\n\"C1\",\n{\n            'v': 500,\n            'f': \"500\",\n        },\n\"Foot Injury\",\n\"2020-01-01 00:00:00\",\n\"2020-03-31 00:00:00\",\n{\n            'v': 1000,\n            'f': \"1000\",\n        }],\n [{\n            'v': 4,\n            'f': \"4\",\n        },\n\"A\",\n\"A2\",\n{\n            'v': 100,\n            'f': \"100\",\n        },\n\"Hand Injury\",\n\"2020-02-01 00:00:00\",\n\"2020-02-15 00:00:00\",\n{\n            'v': 50,\n            'f': \"50\",\n        }],\n [{\n            'v': 5,\n            'f': \"5\",\n        },\n\"B\",\n\"B1\",\n{\n            'v': 200,\n            'f': \"200\",\n        },\n\"Cancer\",\n\"2020-02-01 00:00:00\",\n\"2020-02-15 00:00:00\",\n{\n            'v': 100,\n            'f': \"100\",\n        }],\n [{\n            'v': 6,\n            'f': \"6\",\n        },\n\"B\",\n\"B2\",\n{\n            'v': 200,\n            'f': \"200\",\n        },\n\"Depression\",\n\"2020-03-01 00:00:00\",\n\"2020-03-31 00:00:00\",\n{\n            'v': 200,\n            'f': \"200\",\n        }],\n [{\n            'v': 7,\n            'f': \"7\",\n        },\n\"C\",\n\"C1\",\n{\n            'v': 500,\n            'f': \"500\",\n        },\n\"Foot Injury\",\n\"2020-04-01 00:00:00\",\n\"2020-06-30 00:00:00\",\n{\n            'v': 500,\n            'f': \"500\",\n        }]],\n        columns: [[\"number\", \"index\"], [\"string\", \"Policyholder ID\"], [\"string\", \"Claim Number\"], [\"number\", \"Monthly Benefit\"], [\"string\", \"Cause of Claim\"], [\"string\", \"Paid From Date\"], [\"string\", \"Paid To Date\"], [\"number\", \"Amount Paid\"]],\n        columnOptions: [{\"width\": \"1px\", \"className\": \"index_column\"}],\n        rowsPerPage: 25,\n        helpUrl: \"https://colab.research.google.com/notebooks/data_table.ipynb\",\n        suppressOutputScrolling: true,\n        minimumWidth: undefined,\n      });\n    ",
            "text/html": [
              "\n",
              "  <div id=\"df-0f83159b-bb63-450b-8d1e-1a98b1dccd8f\">\n",
              "    <div class=\"colab-df-container\">\n",
              "      <div>\n",
              "<style scoped>\n",
              "    .dataframe tbody tr th:only-of-type {\n",
              "        vertical-align: middle;\n",
              "    }\n",
              "\n",
              "    .dataframe tbody tr th {\n",
              "        vertical-align: top;\n",
              "    }\n",
              "\n",
              "    .dataframe thead th {\n",
              "        text-align: right;\n",
              "    }\n",
              "</style>\n",
              "<table border=\"1\" class=\"dataframe\">\n",
              "  <thead>\n",
              "    <tr style=\"text-align: right;\">\n",
              "      <th></th>\n",
              "      <th>Policyholder ID</th>\n",
              "      <th>Claim Number</th>\n",
              "      <th>Monthly Benefit</th>\n",
              "      <th>Cause of Claim</th>\n",
              "      <th>Paid From Date</th>\n",
              "      <th>Paid To Date</th>\n",
              "      <th>Amount Paid</th>\n",
              "    </tr>\n",
              "  </thead>\n",
              "  <tbody>\n",
              "    <tr>\n",
              "      <th>0</th>\n",
              "      <td>A</td>\n",
              "      <td>A1</td>\n",
              "      <td>100</td>\n",
              "      <td>Hand Injury</td>\n",
              "      <td>2020-01-01</td>\n",
              "      <td>2020-01-15</td>\n",
              "      <td>50</td>\n",
              "    </tr>\n",
              "    <tr>\n",
              "      <th>1</th>\n",
              "      <td>A</td>\n",
              "      <td>A1</td>\n",
              "      <td>100</td>\n",
              "      <td>Hand Injury</td>\n",
              "      <td>2020-01-16</td>\n",
              "      <td>2020-01-31</td>\n",
              "      <td>50</td>\n",
              "    </tr>\n",
              "    <tr>\n",
              "      <th>2</th>\n",
              "      <td>B</td>\n",
              "      <td>B1</td>\n",
              "      <td>200</td>\n",
              "      <td>Cancer</td>\n",
              "      <td>2020-01-01</td>\n",
              "      <td>2020-01-31</td>\n",
              "      <td>200</td>\n",
              "    </tr>\n",
              "    <tr>\n",
              "      <th>3</th>\n",
              "      <td>C</td>\n",
              "      <td>C1</td>\n",
              "      <td>500</td>\n",
              "      <td>Foot Injury</td>\n",
              "      <td>2020-01-01</td>\n",
              "      <td>2020-03-31</td>\n",
              "      <td>1000</td>\n",
              "    </tr>\n",
              "    <tr>\n",
              "      <th>4</th>\n",
              "      <td>A</td>\n",
              "      <td>A2</td>\n",
              "      <td>100</td>\n",
              "      <td>Hand Injury</td>\n",
              "      <td>2020-02-01</td>\n",
              "      <td>2020-02-15</td>\n",
              "      <td>50</td>\n",
              "    </tr>\n",
              "    <tr>\n",
              "      <th>5</th>\n",
              "      <td>B</td>\n",
              "      <td>B1</td>\n",
              "      <td>200</td>\n",
              "      <td>Cancer</td>\n",
              "      <td>2020-02-01</td>\n",
              "      <td>2020-02-15</td>\n",
              "      <td>100</td>\n",
              "    </tr>\n",
              "    <tr>\n",
              "      <th>6</th>\n",
              "      <td>B</td>\n",
              "      <td>B2</td>\n",
              "      <td>200</td>\n",
              "      <td>Depression</td>\n",
              "      <td>2020-03-01</td>\n",
              "      <td>2020-03-31</td>\n",
              "      <td>200</td>\n",
              "    </tr>\n",
              "    <tr>\n",
              "      <th>7</th>\n",
              "      <td>C</td>\n",
              "      <td>C1</td>\n",
              "      <td>500</td>\n",
              "      <td>Foot Injury</td>\n",
              "      <td>2020-04-01</td>\n",
              "      <td>2020-06-30</td>\n",
              "      <td>500</td>\n",
              "    </tr>\n",
              "  </tbody>\n",
              "</table>\n",
              "</div>\n",
              "      <button class=\"colab-df-convert\" onclick=\"convertToInteractive('df-0f83159b-bb63-450b-8d1e-1a98b1dccd8f')\"\n",
              "              title=\"Convert this dataframe to an interactive table.\"\n",
              "              style=\"display:none;\">\n",
              "        \n",
              "  <svg xmlns=\"http://www.w3.org/2000/svg\" height=\"24px\"viewBox=\"0 0 24 24\"\n",
              "       width=\"24px\">\n",
              "    <path d=\"M0 0h24v24H0V0z\" fill=\"none\"/>\n",
              "    <path d=\"M18.56 5.44l.94 2.06.94-2.06 2.06-.94-2.06-.94-.94-2.06-.94 2.06-2.06.94zm-11 1L8.5 8.5l.94-2.06 2.06-.94-2.06-.94L8.5 2.5l-.94 2.06-2.06.94zm10 10l.94 2.06.94-2.06 2.06-.94-2.06-.94-.94-2.06-.94 2.06-2.06.94z\"/><path d=\"M17.41 7.96l-1.37-1.37c-.4-.4-.92-.59-1.43-.59-.52 0-1.04.2-1.43.59L10.3 9.45l-7.72 7.72c-.78.78-.78 2.05 0 2.83L4 21.41c.39.39.9.59 1.41.59.51 0 1.02-.2 1.41-.59l7.78-7.78 2.81-2.81c.8-.78.8-2.07 0-2.86zM5.41 20L4 18.59l7.72-7.72 1.47 1.35L5.41 20z\"/>\n",
              "  </svg>\n",
              "      </button>\n",
              "      \n",
              "  <style>\n",
              "    .colab-df-container {\n",
              "      display:flex;\n",
              "      flex-wrap:wrap;\n",
              "      gap: 12px;\n",
              "    }\n",
              "\n",
              "    .colab-df-convert {\n",
              "      background-color: #E8F0FE;\n",
              "      border: none;\n",
              "      border-radius: 50%;\n",
              "      cursor: pointer;\n",
              "      display: none;\n",
              "      fill: #1967D2;\n",
              "      height: 32px;\n",
              "      padding: 0 0 0 0;\n",
              "      width: 32px;\n",
              "    }\n",
              "\n",
              "    .colab-df-convert:hover {\n",
              "      background-color: #E2EBFA;\n",
              "      box-shadow: 0px 1px 2px rgba(60, 64, 67, 0.3), 0px 1px 3px 1px rgba(60, 64, 67, 0.15);\n",
              "      fill: #174EA6;\n",
              "    }\n",
              "\n",
              "    [theme=dark] .colab-df-convert {\n",
              "      background-color: #3B4455;\n",
              "      fill: #D2E3FC;\n",
              "    }\n",
              "\n",
              "    [theme=dark] .colab-df-convert:hover {\n",
              "      background-color: #434B5C;\n",
              "      box-shadow: 0px 1px 3px 1px rgba(0, 0, 0, 0.15);\n",
              "      filter: drop-shadow(0px 1px 2px rgba(0, 0, 0, 0.3));\n",
              "      fill: #FFFFFF;\n",
              "    }\n",
              "  </style>\n",
              "\n",
              "      <script>\n",
              "        const buttonEl =\n",
              "          document.querySelector('#df-0f83159b-bb63-450b-8d1e-1a98b1dccd8f button.colab-df-convert');\n",
              "        buttonEl.style.display =\n",
              "          google.colab.kernel.accessAllowed ? 'block' : 'none';\n",
              "\n",
              "        async function convertToInteractive(key) {\n",
              "          const element = document.querySelector('#df-0f83159b-bb63-450b-8d1e-1a98b1dccd8f');\n",
              "          const dataTable =\n",
              "            await google.colab.kernel.invokeFunction('convertToInteractive',\n",
              "                                                     [key], {});\n",
              "          if (!dataTable) return;\n",
              "\n",
              "          const docLinkHtml = 'Like what you see? Visit the ' +\n",
              "            '<a target=\"_blank\" href=https://colab.research.google.com/notebooks/data_table.ipynb>data table notebook</a>'\n",
              "            + ' to learn more about interactive tables.';\n",
              "          element.innerHTML = '';\n",
              "          dataTable['output_type'] = 'display_data';\n",
              "          await google.colab.output.renderOutput(dataTable, element);\n",
              "          const docLink = document.createElement('div');\n",
              "          docLink.innerHTML = docLinkHtml;\n",
              "          element.appendChild(docLink);\n",
              "        }\n",
              "      </script>\n",
              "    </div>\n",
              "  </div>\n",
              "  "
            ],
            "text/plain": [
              "  Policyholder ID Claim Number  ...  Paid To Date Amount Paid\n",
              "0               A           A1  ...    2020-01-15          50\n",
              "1               A           A1  ...    2020-01-31          50\n",
              "2               B           B1  ...    2020-01-31         200\n",
              "3               C           C1  ...    2020-03-31        1000\n",
              "4               A           A2  ...    2020-02-15          50\n",
              "5               B           B1  ...    2020-02-15         100\n",
              "6               B           B2  ...    2020-03-31         200\n",
              "7               C           C1  ...    2020-06-30         500\n",
              "\n",
              "[8 rows x 7 columns]"
            ]
          },
          "metadata": {},
          "execution_count": 6
        }
      ]
    },
    {
      "cell_type": "code",
      "source": [
        "## Initiate Spark session\n",
        "spark_1= SparkSession.builder.appName('demo_1').getOrCreate()\n",
        "df_1 = spark_1.createDataFrame(demo_date_adj)\n",
        "\n",
        "## Customise Windows to apply the Window Functions to\n",
        "Window_1 = Window.partitionBy(\"Policyholder ID\").orderBy(\"Paid From Date\")\n",
        "Window_2 = Window.partitionBy(\"Policyholder ID\").orderBy(\"Policyholder ID\")\n",
        "\n",
        "## Derive information from customised Windows above\n",
        "df_1_show = df_1.withColumn(\"Date of First Payment\", F.min(\"Paid From Date\").over(Window_1)) \\\n",
        "                .withColumn(\"Date of Last Payment\", F.max(\"Paid To Date\").over(Window_2)) \\\n",
        "                .withColumn(\"Duration on Claim - per Policyholder\", F.datediff(F.col(\"Date of Last Payment\"), F.col(\"Date of First Payment\")) + 1) \\\n",
        "                .withColumn(\"Paid To Date Last Payment\", F.lag(\"Paid To Date\", 1).over(Window_1)) \\\n",
        "                .withColumn(\"Paid To Date Last Payment adj\", F.when(F.col(\"Paid To Date Last Payment\").isNull(), F.col(\"Paid From Date\")) \\\n",
        "                        .otherwise(F.date_add(F.col(\"Paid To Date Last Payment\"), 1))) \\\n",
        "                .withColumn(\"Payment Gap\", F.datediff(F.col(\"Paid From Date\"), F.col(\"Paid To Date Last Payment adj\"))) \\\n",
        "                .withColumn(\"Payment Gap - Max\", F.max(\"Payment Gap\").over(Window_2)) \\\n",
        "                .withColumn(\"Duration on Claim - Final\", F.col(\"Duration on Claim - per Policyholder\") - F.col(\"Payment Gap - Max\")) \\\n",
        "                .withColumn(\"Amount Paid Total\", F.sum(\"Amount Paid\").over(Window_2)) \\\n",
        "                .withColumn(\"Monthly Benefit Total\", F.col(\"Monthly Benefit\") * F.col(\"Duration on Claim - Final\") / 30.5) \\\n",
        "                .withColumn(\"Payout Ratio\", F.round(F.col(\"Amount Paid Total\") /  F.col(\"Monthly Benefit Total\"), 1)) \\\n",
        "                .withColumn(\"Number of Payments\", F.row_number().over(Window_1)) \\\n",
        "                .show()\n"
      ],
      "metadata": {
        "colab": {
          "base_uri": "https://localhost:8080/"
        },
        "id": "p75_eI4we7-m",
        "outputId": "e9bd6829-e8fe-4f36-803d-1b19fd554bf7"
      },
      "execution_count": null,
      "outputs": [
        {
          "output_type": "stream",
          "name": "stdout",
          "text": [
            "+---------------+------------+---------------+--------------+-------------------+-------------------+-----------+---------------------+--------------------+------------------------------------+-------------------------+-----------------------------+-----------+-----------------+-------------------------+-----------------+---------------------+------------+------------------+\n",
            "|Policyholder ID|Claim Number|Monthly Benefit|Cause of Claim|     Paid From Date|       Paid To Date|Amount Paid|Date of First Payment|Date of Last Payment|Duration on Claim - per Policyholder|Paid To Date Last Payment|Paid To Date Last Payment adj|Payment Gap|Payment Gap - Max|Duration on Claim - Final|Amount Paid Total|Monthly Benefit Total|Payout Ratio|Number of Payments|\n",
            "+---------------+------------+---------------+--------------+-------------------+-------------------+-----------+---------------------+--------------------+------------------------------------+-------------------------+-----------------------------+-----------+-----------------+-------------------------+-----------------+---------------------+------------+------------------+\n",
            "|              A|          A1|            100|   Hand Injury|2020-01-01 00:00:00|2020-01-15 00:00:00|         50|  2020-01-01 00:00:00| 2020-02-15 00:00:00|                                  46|                     null|          2020-01-01 00:00:00|          0|                0|                       46|              150|   150.81967213114754|         1.0|                 1|\n",
            "|              A|          A1|            100|   Hand Injury|2020-01-16 00:00:00|2020-01-31 00:00:00|         50|  2020-01-01 00:00:00| 2020-02-15 00:00:00|                                  46|      2020-01-15 00:00:00|          2020-01-16 00:00:00|          0|                0|                       46|              150|   150.81967213114754|         1.0|                 2|\n",
            "|              A|          A2|            100|   Hand Injury|2020-02-01 00:00:00|2020-02-15 00:00:00|         50|  2020-01-01 00:00:00| 2020-02-15 00:00:00|                                  46|      2020-01-31 00:00:00|          2020-02-01 00:00:00|          0|                0|                       46|              150|   150.81967213114754|         1.0|                 3|\n",
            "|              B|          B1|            200|        Cancer|2020-01-01 00:00:00|2020-01-31 00:00:00|        200|  2020-01-01 00:00:00| 2020-03-31 00:00:00|                                  91|                     null|          2020-01-01 00:00:00|          0|               14|                       77|              500|   504.91803278688525|         1.0|                 1|\n",
            "|              B|          B1|            200|        Cancer|2020-02-01 00:00:00|2020-02-15 00:00:00|        100|  2020-01-01 00:00:00| 2020-03-31 00:00:00|                                  91|      2020-01-31 00:00:00|          2020-02-01 00:00:00|          0|               14|                       77|              500|   504.91803278688525|         1.0|                 2|\n",
            "|              B|          B2|            200|    Depression|2020-03-01 00:00:00|2020-03-31 00:00:00|        200|  2020-01-01 00:00:00| 2020-03-31 00:00:00|                                  91|      2020-02-15 00:00:00|          2020-02-16 00:00:00|         14|               14|                       77|              500|   504.91803278688525|         1.0|                 3|\n",
            "|              C|          C1|            500|   Foot Injury|2020-01-01 00:00:00|2020-03-31 00:00:00|       1000|  2020-01-01 00:00:00| 2020-06-30 00:00:00|                                 182|                     null|          2020-01-01 00:00:00|          0|                0|                      182|             1500|   2983.6065573770493|         0.5|                 1|\n",
            "|              C|          C1|            500|   Foot Injury|2020-04-01 00:00:00|2020-06-30 00:00:00|        500|  2020-01-01 00:00:00| 2020-06-30 00:00:00|                                 182|      2020-03-31 00:00:00|          2020-04-01 00:00:00|          0|                0|                      182|             1500|   2983.6065573770493|         0.5|                 2|\n",
            "+---------------+------------+---------------+--------------+-------------------+-------------------+-----------+---------------------+--------------------+------------------------------------+-------------------------+-----------------------------+-----------+-----------------+-------------------------+-----------------+---------------------+------------+------------------+\n",
            "\n"
          ]
        }
      ]
    },
    {
      "cell_type": "code",
      "source": [
        "df_1_spark = df_1.withColumn(\"Date of First Payment\", F.min(\"Paid From Date\").over(Window_1)) \\\n",
        "                .withColumn(\"Date of Last Payment\", F.max(\"Paid To Date\").over(Window_2)) \\\n",
        "                .withColumn(\"Duration on Claim - per Policyholder\", F.datediff(F.col(\"Date of Last Payment\"), F.col(\"Date of First Payment\")) + 1) \\\n",
        "                .withColumn(\"Paid To Date Last Payment\", F.lag(\"Paid To Date\", 1).over(Window_1)) \\\n",
        "                .withColumn(\"Paid To Date Last Payment adj\", F.when(F.col(\"Paid To Date Last Payment\").isNull(), F.col(\"Paid From Date\")) \\\n",
        "                        .otherwise(F.date_add(F.col(\"Paid To Date Last Payment\"), 1))) \\\n",
        "                .withColumn(\"Payment Gap\", F.datediff(F.col(\"Paid From Date\"), F.col(\"Paid To Date Last Payment adj\"))) \\\n",
        "                .withColumn(\"Payment Gap - Max\", F.max(\"Payment Gap\").over(Window_2)) \\\n",
        "                .withColumn(\"Duration on Claim - Final\", F.col(\"Duration on Claim - per Policyholder\") - F.col(\"Payment Gap - Max\")) \\\n",
        "                .withColumn(\"Amount Paid Total\", F.sum(\"Amount Paid\").over(Window_2)) \\\n",
        "                .withColumn(\"Monthly Benefit Total\", F.col(\"Monthly Benefit\") * F.col(\"Duration on Claim - Final\") / 30.5) \\\n",
        "                .withColumn(\"Payout Ratio\", F.round(F.col(\"Amount Paid Total\") /  F.col(\"Monthly Benefit Total\"), 1))\n"
      ],
      "metadata": {
        "id": "l2OCP2cUe777"
      },
      "execution_count": null,
      "outputs": []
    },
    {
      "cell_type": "code",
      "source": [
        "\n",
        "\n",
        "df_1_spark.toPandas().to_csv(\"TDS_output.csv\")"
      ],
      "metadata": {
        "id": "OcLgJIdUw-5i"
      },
      "execution_count": null,
      "outputs": []
    }
  ]
}